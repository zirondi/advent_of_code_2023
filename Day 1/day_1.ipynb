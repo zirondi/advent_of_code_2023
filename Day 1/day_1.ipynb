{
 "cells": [
  {
   "cell_type": "markdown",
   "metadata": {},
   "source": [
    "# Part one"
   ]
  },
  {
   "cell_type": "code",
   "execution_count": null,
   "metadata": {},
   "outputs": [],
   "source": [
    "import re\n",
    "\n",
    "regex_pattern = r'[\\d]'\n",
    "\n",
    "input_path: str = 'input.txt'\n",
    "with open(input_path) as f:\n",
    "    input_content = f.readlines()\n",
    "\n",
    "total: int = 0\n",
    "\n",
    "def get_digit(instruction: str) -> int:\n",
    "    return re.search(regex_pattern, instruction).group()\n",
    "\n",
    "for instruction in input_content:\n",
    "    first_digit = get_digit(instruction)\n",
    "    second_digit = get_digit(instruction[::-1])\n",
    "    total += int(f'{first_digit}{second_digit}')\n",
    "\n",
    "total"
   ]
  },
  {
   "cell_type": "markdown",
   "metadata": {},
   "source": [
    "# Part Two"
   ]
  },
  {
   "cell_type": "code",
   "execution_count": null,
   "metadata": {},
   "outputs": [],
   "source": [
    "# Requirements\n",
    "!pip install inflect"
   ]
  },
  {
   "cell_type": "code",
   "execution_count": null,
   "metadata": {},
   "outputs": [],
   "source": [
    "import inflect\n",
    "import re\n",
    "\n",
    "FIRST_VALID_NUMBER = 1\n",
    "LAST_VALID_NUMBER = 9\n",
    "\n",
    "valid_numbers: list[str] = []\n",
    "number_map: dict[str, int] = {}\n",
    "\n",
    "p = inflect.engine()\n",
    "\n",
    "for i in range(FIRST_VALID_NUMBER, LAST_VALID_NUMBER + 1):\n",
    "    valid_numbers.append(p.number_to_words(i))\n",
    "    number_map[p.number_to_words(i)] = str(i)\n",
    "\n",
    "\n",
    "regex_pattern: str = r'([\\d])|(?=('\n",
    "\n",
    "for number in valid_numbers:\n",
    "    regex_pattern += f'{number}|'\n",
    "\n",
    "\n",
    "regex_pattern += '))'\n",
    "\n",
    "input_path: str = 'input.txt'\n",
    "with open(input_path) as f:\n",
    "    input_content = f.readlines()\n",
    "\n",
    "total : int = 0\n",
    "\n",
    "def get_digit(instruction: str) -> int:\n",
    "    result = re.findall(regex_pattern, instruction)\n",
    "    result = list(filter(lambda x: x != ('', ''), result))\n",
    "    result = list(map(lambda x: x[0] if x[0] != '' else number_map[x[1]], result))\n",
    "    return result\n",
    "\n",
    "for instruction in input_content:\n",
    "    regex_match = get_digit(instruction)\n",
    "    first_digit = regex_match[0]\n",
    "    second_digit = regex_match[-1]\n",
    "    total += int(f'{first_digit}{second_digit}')\n",
    "\n",
    "total"
   ]
  }
 ],
 "metadata": {
  "kernelspec": {
   "display_name": "Python 3",
   "language": "python",
   "name": "python3"
  },
  "language_info": {
   "codemirror_mode": {
    "name": "ipython",
    "version": 3
   },
   "file_extension": ".py",
   "mimetype": "text/x-python",
   "name": "python",
   "nbconvert_exporter": "python",
   "pygments_lexer": "ipython3",
   "version": "3.11.5"
  }
 },
 "nbformat": 4,
 "nbformat_minor": 2
}
